{
  "cells": [
    {
      "cell_type": "markdown",
      "metadata": {
        "id": "view-in-github",
        "colab_type": "text"
      },
      "source": [
        "<a href=\"https://colab.research.google.com/github/jpscard/IA-BIO-INSPIRADA-E-OTIMIZACAO/blob/main/Exerc%C3%ADcio_3_Problemas_de_Ger%C3%AAncia_de_Energia_com_pre%C3%A7o_(BLP).ipynb\" target=\"_parent\"><img src=\"https://colab.research.google.com/assets/colab-badge.svg\" alt=\"Open In Colab\"/></a>"
      ]
    },
    {
      "cell_type": "markdown",
      "source": [
        "### Exercício 1 - Problemas de Programação Linear\n",
        "\n",
        "### Professores:\n",
        " - Profª Drª Jasmine Priscyla Leite de Araújo\n",
        " - Prof. Dr. Glauco Estácio Gonçalves\n",
        "\n",
        "### Alunos:\n",
        " - João Paulo da Silva Cardoso\n",
        " - Luiz Paulo Coutinho de Souza"
      ],
      "metadata": {
        "id": "ND3BcRWzYgIp"
      }
    },
    {
      "cell_type": "markdown",
      "source": [
        "# Problema de Gerenciamento de Energia por Desligamento de Servidores\n",
        "\n",
        "Neste problema, faremos o gerenciamento de energia por meio do desligamento de servidores. Temos um conjunto \\(\\{1 \\ldots V\\}\\) de VMs, sendo que cada VM \\(i\\) possui apenas a sua respectiva demanda de capacidade \\(d_i\\). Além disso, temos um conjunto de servidores \\(\\{1 \\ldots M\\}\\), com cada servidor \\(j\\) possuindo sua respectiva capacidade \\(C_j\\). Um servidor pode ou não estar ligado, o que é modelado por meio da variável de decisão booleana \\(y_j\\), com 1 representando o servidor ligado e 0 desligado. A alocação de uma VM \\(i\\) em um servidor \\(j\\) é modelada pela variável de decisão booleana \\(x_{ij}\\) que assume 1 no caso da máquina virtual \\(i\\) estar alocada no servidor \\(j\\), e 0 caso contrário.\n",
        "\n",
        "Objetivo: Minimizar o número de servidores ativos.\n",
        "$$\n",
        "\\text{minimizar } \\sum_{j=1}^{M} y_j\n",
        "$$\n",
        "\n",
        "Sujeito às seguintes restrições:\n",
        "$$\n",
        "\\sum_{i=1}^{V} d_i x_{ij} \\leq y_j C_j, \\text{ para cada servidor } j\n",
        "$$\n",
        "$$\n",
        "\\sum_{j=1}^{M} x_{ij} = 1, \\text{ para cada VM } i\n",
        "$$\n",
        "$$\n",
        "x_{ij} \\in \\{0,1\\}, \\text{ para todo } i \\text{ e } j\n",
        "$$\n",
        "$$\n",
        "y_j \\in \\{0,1\\}, \\text{ para todo } j\n",
        "$$\n",
        "\n",
        "Este problema é NP-difícil e equivale ao problema conhecido como Bin-packing. Diversas formas de solucioná-lo são apresentadas no Capítulo 8 em [1].\n",
        "\n",
        "## Adicionando Preço (BLP)\n",
        "\n",
        "Podemos modificar este problema adicionando preço. Para tanto, basta que adicionemos a variável do preço \\(p_i\\) de cada VM \\(i\\) e um custo energético \\(w_j\\) de cada servidor. Assim, desejamos otimizar a seguinte função objetivo:\n",
        "\n",
        "Objetivo: Maximizar\n",
        "$$\n",
        "\\text{maximizar } \\sum_{i=1}^{V} \\sum_{j=1}^{M} p_i x_{ij} - \\sum_{j=1}^{M} w_j y_j\n",
        "$$\n",
        "\n",
        "Sujeita às seguintes restrições:\n",
        "\n",
        "1. Para cada servidor \\(j\\):\n",
        "   $$\n",
        "   \\sum_{i=1}^{V} d_i x_{ij} \\leq y_j C_j\n",
        "   $$\n",
        "\n",
        "2. Para cada VM \\(i\\):\n",
        "   $$\n",
        "   \\sum_{j=1}^{M} x_{ij} \\leq 1\n",
        "   $$\n",
        "\n",
        "3. Para todo \\(i\\) e \\(j\\):\n",
        "   $$\n",
        "   x_{ij} \\in \\{0,1\\}\n",
        "   $$\n",
        "   $$\n",
        "   y_j \\in \\{0,1\\}\n",
        "   $$\n"
      ],
      "metadata": {
        "id": "T3HDHkkGNKmN"
      }
    },
    {
      "cell_type": "markdown",
      "source": [
        "## 0 - Instalação das biblotecas"
      ],
      "metadata": {
        "id": "It3vOOMHN1_7"
      }
    },
    {
      "cell_type": "code",
      "source": [
        "# Comando para instalar a biblioteca Pyomo\n",
        "# Pyomo é uma biblioteca de modelagem matemática amplamente utilizada para otimização\n",
        "# O sinal '-q' é usado para realizar a instalação de forma silenciosa, reduzindo a saída de log\n",
        "!pip install -q pyomo\n",
        "\n",
        "# Este comando instala o solver COIN-OR Branch and Cut (CBC) no ambiente.\n",
        "# O CBC é um solver de programação linear e inteira open-source, utilizado por várias bibliotecas de otimização, incluindo Pyomo.\n",
        "!apt install -y -qq coinor-cbc\n",
        "\n",
        "# Comando para instalar o solver GLPK\n",
        "# GLPK (GNU Linear Programming Kit) é um solver de programação linear que Pyomo pode utilizar\n",
        "# O parâmetro '-y' confirma automaticamente a instalação, e '-qq' reduz a verbosidade do processo\n",
        "!apt-get install -y -qq glpk-utils"
      ],
      "metadata": {
        "id": "g7yvQn_RNNau",
        "outputId": "29722a52-1d80-4918-a75e-65eb5a23ad46",
        "colab": {
          "base_uri": "https://localhost:8080/"
        }
      },
      "execution_count": 1,
      "outputs": [
        {
          "output_type": "stream",
          "name": "stdout",
          "text": [
            "\u001b[2K     \u001b[90m━━━━━━━━━━━━━━━━━━━━━━━━━━━━━━━━━━━━━━━━\u001b[0m \u001b[32m12.5/12.5 MB\u001b[0m \u001b[31m78.5 MB/s\u001b[0m eta \u001b[36m0:00:00\u001b[0m\n",
            "\u001b[2K     \u001b[90m━━━━━━━━━━━━━━━━━━━━━━━━━━━━━━━━━━━━━━━━\u001b[0m \u001b[32m49.6/49.6 kB\u001b[0m \u001b[31m5.7 MB/s\u001b[0m eta \u001b[36m0:00:00\u001b[0m\n",
            "\u001b[?25hThe following additional packages will be installed:\n",
            "  coinor-libcbc3 coinor-libcgl1 coinor-libclp1 coinor-libcoinutils3v5 coinor-libosi1v5\n",
            "The following NEW packages will be installed:\n",
            "  coinor-cbc coinor-libcbc3 coinor-libcgl1 coinor-libclp1 coinor-libcoinutils3v5 coinor-libosi1v5\n",
            "0 upgraded, 6 newly installed, 0 to remove and 23 not upgraded.\n",
            "Need to get 2,908 kB of archives.\n",
            "After this operation, 8,310 kB of additional disk space will be used.\n",
            "Selecting previously unselected package coinor-libcoinutils3v5:amd64.\n",
            "(Reading database ... 120903 files and directories currently installed.)\n",
            "Preparing to unpack .../0-coinor-libcoinutils3v5_2.11.4+repack1-2_amd64.deb ...\n",
            "Unpacking coinor-libcoinutils3v5:amd64 (2.11.4+repack1-2) ...\n",
            "Selecting previously unselected package coinor-libosi1v5:amd64.\n",
            "Preparing to unpack .../1-coinor-libosi1v5_0.108.6+repack1-2_amd64.deb ...\n",
            "Unpacking coinor-libosi1v5:amd64 (0.108.6+repack1-2) ...\n",
            "Selecting previously unselected package coinor-libclp1.\n",
            "Preparing to unpack .../2-coinor-libclp1_1.17.5+repack1-1_amd64.deb ...\n",
            "Unpacking coinor-libclp1 (1.17.5+repack1-1) ...\n",
            "Selecting previously unselected package coinor-libcgl1:amd64.\n",
            "Preparing to unpack .../3-coinor-libcgl1_0.60.3+repack1-3_amd64.deb ...\n",
            "Unpacking coinor-libcgl1:amd64 (0.60.3+repack1-3) ...\n",
            "Selecting previously unselected package coinor-libcbc3:amd64.\n",
            "Preparing to unpack .../4-coinor-libcbc3_2.10.7+ds1-1_amd64.deb ...\n",
            "Unpacking coinor-libcbc3:amd64 (2.10.7+ds1-1) ...\n",
            "Selecting previously unselected package coinor-cbc.\n",
            "Preparing to unpack .../5-coinor-cbc_2.10.7+ds1-1_amd64.deb ...\n",
            "Unpacking coinor-cbc (2.10.7+ds1-1) ...\n",
            "Setting up coinor-libcoinutils3v5:amd64 (2.11.4+repack1-2) ...\n",
            "Setting up coinor-libosi1v5:amd64 (0.108.6+repack1-2) ...\n",
            "Setting up coinor-libclp1 (1.17.5+repack1-1) ...\n",
            "Setting up coinor-libcgl1:amd64 (0.60.3+repack1-3) ...\n",
            "Setting up coinor-libcbc3:amd64 (2.10.7+ds1-1) ...\n",
            "Setting up coinor-cbc (2.10.7+ds1-1) ...\n",
            "Processing triggers for man-db (2.10.2-1) ...\n",
            "Processing triggers for libc-bin (2.35-0ubuntu3.4) ...\n",
            "/sbin/ldconfig.real: /usr/local/lib/libtbbbind_2_0.so.3 is not a symbolic link\n",
            "\n",
            "/sbin/ldconfig.real: /usr/local/lib/libtbb.so.12 is not a symbolic link\n",
            "\n",
            "/sbin/ldconfig.real: /usr/local/lib/libtbbmalloc_proxy.so.2 is not a symbolic link\n",
            "\n",
            "/sbin/ldconfig.real: /usr/local/lib/libtbbbind.so.3 is not a symbolic link\n",
            "\n",
            "/sbin/ldconfig.real: /usr/local/lib/libtbbmalloc.so.2 is not a symbolic link\n",
            "\n",
            "/sbin/ldconfig.real: /usr/local/lib/libtbbbind_2_5.so.3 is not a symbolic link\n",
            "\n",
            "Selecting previously unselected package libsuitesparseconfig5:amd64.\n",
            "(Reading database ... 120948 files and directories currently installed.)\n",
            "Preparing to unpack .../libsuitesparseconfig5_1%3a5.10.1+dfsg-4build1_amd64.deb ...\n",
            "Unpacking libsuitesparseconfig5:amd64 (1:5.10.1+dfsg-4build1) ...\n",
            "Selecting previously unselected package libamd2:amd64.\n",
            "Preparing to unpack .../libamd2_1%3a5.10.1+dfsg-4build1_amd64.deb ...\n",
            "Unpacking libamd2:amd64 (1:5.10.1+dfsg-4build1) ...\n",
            "Selecting previously unselected package libcolamd2:amd64.\n",
            "Preparing to unpack .../libcolamd2_1%3a5.10.1+dfsg-4build1_amd64.deb ...\n",
            "Unpacking libcolamd2:amd64 (1:5.10.1+dfsg-4build1) ...\n",
            "Selecting previously unselected package libglpk40:amd64.\n",
            "Preparing to unpack .../libglpk40_5.0-1_amd64.deb ...\n",
            "Unpacking libglpk40:amd64 (5.0-1) ...\n",
            "Selecting previously unselected package glpk-utils.\n",
            "Preparing to unpack .../glpk-utils_5.0-1_amd64.deb ...\n",
            "Unpacking glpk-utils (5.0-1) ...\n",
            "Setting up libsuitesparseconfig5:amd64 (1:5.10.1+dfsg-4build1) ...\n",
            "Setting up libamd2:amd64 (1:5.10.1+dfsg-4build1) ...\n",
            "Setting up libcolamd2:amd64 (1:5.10.1+dfsg-4build1) ...\n",
            "Setting up libglpk40:amd64 (5.0-1) ...\n",
            "Setting up glpk-utils (5.0-1) ...\n",
            "Processing triggers for man-db (2.10.2-1) ...\n",
            "Processing triggers for libc-bin (2.35-0ubuntu3.4) ...\n",
            "/sbin/ldconfig.real: /usr/local/lib/libtbbbind_2_0.so.3 is not a symbolic link\n",
            "\n",
            "/sbin/ldconfig.real: /usr/local/lib/libtbb.so.12 is not a symbolic link\n",
            "\n",
            "/sbin/ldconfig.real: /usr/local/lib/libtbbmalloc_proxy.so.2 is not a symbolic link\n",
            "\n",
            "/sbin/ldconfig.real: /usr/local/lib/libtbbbind.so.3 is not a symbolic link\n",
            "\n",
            "/sbin/ldconfig.real: /usr/local/lib/libtbbmalloc.so.2 is not a symbolic link\n",
            "\n",
            "/sbin/ldconfig.real: /usr/local/lib/libtbbbind_2_5.so.3 is not a symbolic link\n",
            "\n"
          ]
        }
      ]
    },
    {
      "cell_type": "markdown",
      "source": [
        "## 1 - Solução com Pyomo e solver GLPK"
      ],
      "metadata": {
        "id": "WDaUFB6ENa0M"
      }
    },
    {
      "cell_type": "code",
      "source": [
        "# Importa todas as funcionalidades necessárias do Pyomo\n",
        "from pyomo.environ import *\n",
        "\n",
        "# Dados do Problema\n",
        "V = 5  # Número de VMs\n",
        "M = 3  # Número de servidores\n",
        "d = {1: 3, 2: 5, 3: 2, 4: 6, 5: 3}  # Demanda de capacidade das VMs (em unidades de capacidade)\n",
        "C = {1: 10, 2: 10, 3: 10}  # Capacidade dos servidores (em unidades de capacidade)\n",
        "p = {1: 4, 2: 3, 3: 2, 4: 5, 5: 1}  # Preço de cada VM (em unidades monetárias)\n",
        "w = {1: 2, 2: 2, 3: 1}  # Custo energético de cada servidor (em unidades monetárias)\n",
        "\n",
        "# Modelo\n",
        "model = ConcreteModel()\n",
        "\n",
        "# Conjuntos\n",
        "model.VMs = RangeSet(V)\n",
        "model.Servidores = RangeSet(M)\n",
        "\n",
        "# Variáveis de Decisão\n",
        "model.x = Var(model.VMs, model.Servidores, domain=Binary)  # Alocação de VMs em servidores\n",
        "model.y = Var(model.Servidores, domain=Binary)  # Status dos servidores (ligado ou desligado)\n",
        "\n",
        "# Função Objetivo\n",
        "# Maximiza o lucro (receita das VMs - custo dos servidores)\n",
        "model.obj = Objective(expr=sum(p[i] * model.x[i, j] for i in model.VMs for j in model.Servidores) -\n",
        "                      sum(w[j] * model.y[j] for j in model.Servidores), sense=maximize)\n",
        "\n",
        "# Restrições\n",
        "# Restrição de capacidade: a soma das demandas das VMs em um servidor não pode exceder sua capacidade\n",
        "model.capacidade = ConstraintList()\n",
        "for j in model.Servidores:\n",
        "    model.capacidade.add(sum(d[i] * model.x[i, j] for i in model.VMs) <= model.y[j] * C[j])\n",
        "\n",
        "# Restrição de alocação: cada VM deve ser alocada em exatamente um servidor\n",
        "model.alocacao = ConstraintList()\n",
        "for i in model.VMs:\n",
        "    model.alocacao.add(sum(model.x[i, j] for j in model.Servidores) == 1)\n",
        "\n",
        "# Resolve o modelo usando um solver\n",
        "solver = SolverFactory('glpk')\n",
        "resultado = solver.solve(model, tee=True)\n",
        "\n",
        "# Verifica se a solução foi bem-sucedida e imprime os resultados\n",
        "if resultado.solver.status == SolverStatus.ok and resultado.solver.termination_condition == TerminationCondition.optimal:\n",
        "    # Imprime o lucro total\n",
        "    print(f'\\nLucro Total: {model.obj():.2f} unidades monetárias')\n",
        "\n",
        "    # Imprime a alocação das VMs nos servidores\n",
        "    print('\\nAlocação das VMs nos Servidores:')\n",
        "    for i in model.VMs:\n",
        "        for j in model.Servidores:\n",
        "            if model.x[i, j]() == 1:\n",
        "                print(f'  - VM {i} alocada no Servidor {j}')\n",
        "\n",
        "    # Imprime o status dos servidores\n",
        "    print('\\nStatus dos Servidores:')\n",
        "    for j in model.Servidores:\n",
        "        status = 'Ativo' if model.y[j]() == 1 else 'Desligado'\n",
        "        print(f'  - Servidor {j}: {status}')\n",
        "else:\n",
        "    print('\\nNão foi encontrada uma solução ótima.')\n"
      ],
      "metadata": {
        "colab": {
          "base_uri": "https://localhost:8080/"
        },
        "id": "zS6gJqIoRIcd",
        "outputId": "a20ccfcd-271f-47c8-d6d0-ddc0f68a7b53"
      },
      "execution_count": 2,
      "outputs": [
        {
          "output_type": "stream",
          "name": "stdout",
          "text": [
            "GLPSOL--GLPK LP/MIP Solver 5.0\n",
            "Parameter(s) specified in the command line:\n",
            " --write /tmp/tmpy03qp0x7.glpk.raw --wglp /tmp/tmpzb6_pnz5.glpk.glp --cpxlp\n",
            " /tmp/tmp5h5_wm2v.pyomo.lp\n",
            "Reading problem data from '/tmp/tmp5h5_wm2v.pyomo.lp'...\n",
            "/tmp/tmp5h5_wm2v.pyomo.lp:103: warning: lower bound of variable 'x2' redefined\n",
            "/tmp/tmp5h5_wm2v.pyomo.lp:103: warning: upper bound of variable 'x2' redefined\n",
            "8 rows, 18 columns, 33 non-zeros\n",
            "18 integer variables, all of which are binary\n",
            "121 lines were read\n",
            "Writing problem data to '/tmp/tmpzb6_pnz5.glpk.glp'...\n",
            "88 lines were written\n",
            "GLPK Integer Optimizer 5.0\n",
            "8 rows, 18 columns, 33 non-zeros\n",
            "18 integer variables, all of which are binary\n",
            "Preprocessing...\n",
            "8 rows, 18 columns, 33 non-zeros\n",
            "18 integer variables, all of which are binary\n",
            "Scaling...\n",
            " A: min|aij| =  1.000e+00  max|aij| =  1.000e+01  ratio =  1.000e+01\n",
            "Problem data seem to be well scaled\n",
            "Constructing initial basis...\n",
            "Size of triangular part is 8\n",
            "Solving LP relaxation...\n",
            "GLPK Simplex Optimizer 5.0\n",
            "8 rows, 18 columns, 33 non-zeros\n",
            "      0: obj =   1.500000000e+01 inf =   1.900e+01 (1)\n",
            "      6: obj =   1.220000000e+01 inf =   0.000e+00 (0)\n",
            "OPTIMAL LP SOLUTION FOUND\n",
            "Integer optimization begins...\n",
            "Long-step dual simplex will be used\n",
            "+     6: mip =     not found yet <=              +inf        (1; 0)\n",
            "Solution found by heuristic: 12\n",
            "+    11: mip =   1.200000000e+01 <=     tree is empty   0.0% (0; 7)\n",
            "INTEGER OPTIMAL SOLUTION FOUND\n",
            "Time used:   0.0 secs\n",
            "Memory used: 0.1 Mb (60406 bytes)\n",
            "Writing MIP solution to '/tmp/tmpy03qp0x7.glpk.raw'...\n",
            "35 lines were written\n",
            "\n",
            "Lucro Total: 12.00 unidades monetárias\n",
            "\n",
            "Alocação das VMs nos Servidores:\n",
            "  - VM 1 alocada no Servidor 1\n",
            "  - VM 2 alocada no Servidor 1\n",
            "  - VM 3 alocada no Servidor 1\n",
            "  - VM 4 alocada no Servidor 3\n",
            "  - VM 5 alocada no Servidor 3\n",
            "\n",
            "Status dos Servidores:\n",
            "  - Servidor 1: Ativo\n",
            "  - Servidor 2: Desligado\n",
            "  - Servidor 3: Ativo\n"
          ]
        }
      ]
    },
    {
      "cell_type": "markdown",
      "source": [
        "##2 - Solução por Busca Exaustiva"
      ],
      "metadata": {
        "id": "TzT5h41HTpjC"
      }
    },
    {
      "cell_type": "markdown",
      "source": [
        "Explicação do Código:\n",
        "Este código implementa uma busca exaustiva que itera por todas as combinações possíveis de alocação de VMs e status dos servidores.\n",
        "Para cada combinação, ele verifica se a alocação é válida (ou seja, se não excede a capacidade de nenhum servidor ativo).\n",
        "Se a alocação for válida, ele calcula o lucro (receita das VMs menos os custos dos servidores).\n",
        "Finalmente, ele compara todas as combinações válidas e seleciona a que proporciona o maior lucro.\n",
        "A saída é formatada para mostrar o lucro total, a alocação das VMs e o status dos servidores, similarmente ao que foi feito com a saída do solver Pyomo."
      ],
      "metadata": {
        "id": "Gd-Qqp99YNf2"
      }
    },
    {
      "cell_type": "code",
      "source": [
        "import itertools\n",
        "\n",
        "# Dados do Problema\n",
        "V = 5  # Número de VMs\n",
        "M = 3  # Número de servidores\n",
        "d = {1: 3, 2: 5, 3: 2, 4: 6, 5: 3}  # Demanda de capacidade das VMs\n",
        "C = {1: 10, 2: 10, 3: 10}  # Capacidade dos servidores\n",
        "p = {1: 4, 2: 3, 3: 2, 4: 5, 5: 1}  # Preço de cada VM\n",
        "w = {1: 2, 2: 2, 3: 1}  # Custo energético de cada servidor\n",
        "\n",
        "# Função para verificar se uma alocação é válida\n",
        "def is_valid_allocation(allocation, server_status):\n",
        "    for j in range(M):\n",
        "        total_demand = sum(d[i+1] * allocation[i][j] for i in range(V))\n",
        "        if total_demand > C[j+1] * server_status[j]:\n",
        "            return False\n",
        "    return True\n",
        "\n",
        "# Função para calcular o lucro\n",
        "def calculate_profit(allocation, server_status):\n",
        "    revenue = sum(p[i+1] * sum(allocation[i]) for i in range(V))\n",
        "    cost = sum(w[j+1] * server_status[j] for j in range(M))\n",
        "    return revenue - cost\n",
        "\n",
        "# Busca exaustiva\n",
        "best_profit = float('-inf')\n",
        "best_allocation = None\n",
        "best_server_status = None\n",
        "\n",
        "for server_status in itertools.product([0, 1], repeat=M):\n",
        "    for allocation in itertools.product(itertools.product([0, 1], repeat=M), repeat=V):\n",
        "        if is_valid_allocation(allocation, server_status):\n",
        "            profit = calculate_profit(allocation, server_status)\n",
        "            if profit > best_profit:\n",
        "                best_profit = profit\n",
        "                best_allocation = allocation\n",
        "                best_server_status = server_status\n",
        "\n",
        "# Exibindo a melhor solução\n",
        "print(f'Lucro Total: {best_profit:.2f} unidades monetárias')\n",
        "\n",
        "print('\\nAlocação das VMs nos Servidores:')\n",
        "for i in range(V):\n",
        "    for j in range(M):\n",
        "        if best_allocation[i][j] == 1:\n",
        "            print(f'  - VM {i+1} alocada no Servidor {j+1}')\n",
        "\n",
        "print('\\nStatus dos Servidores:')\n",
        "for j in range(M):\n",
        "    status = 'Ativo' if best_server_status[j] == 1 else 'Desligado'\n",
        "    print(f'  - Servidor {j+1}: {status}')\n"
      ],
      "metadata": {
        "colab": {
          "base_uri": "https://localhost:8080/"
        },
        "id": "3K7jArGZXUI4",
        "outputId": "01c0e29f-a0ec-477f-af2f-c3020c90c1ec"
      },
      "execution_count": null,
      "outputs": [
        {
          "output_type": "stream",
          "name": "stdout",
          "text": [
            "Lucro Total: 22.00 unidades monetárias\n",
            "\n",
            "Alocação das VMs nos Servidores:\n",
            "  - VM 1 alocada no Servidor 1\n",
            "  - VM 1 alocada no Servidor 2\n",
            "  - VM 1 alocada no Servidor 3\n",
            "  - VM 4 alocada no Servidor 1\n",
            "  - VM 4 alocada no Servidor 2\n",
            "  - VM 4 alocada no Servidor 3\n",
            "\n",
            "Status dos Servidores:\n",
            "  - Servidor 1: Ativo\n",
            "  - Servidor 2: Ativo\n",
            "  - Servidor 3: Ativo\n"
          ]
        }
      ]
    },
    {
      "cell_type": "markdown",
      "source": [
        "##3 - Comparação das soluções"
      ],
      "metadata": {
        "id": "NRNob1ONT5WX"
      }
    },
    {
      "cell_type": "markdown",
      "source": [],
      "metadata": {
        "id": "g9yQom5eYFE7"
      }
    }
  ],
  "metadata": {
    "colab": {
      "toc_visible": true,
      "provenance": [],
      "include_colab_link": true
    },
    "kernelspec": {
      "display_name": "Python 3",
      "name": "python3"
    }
  },
  "nbformat": 4,
  "nbformat_minor": 0
}